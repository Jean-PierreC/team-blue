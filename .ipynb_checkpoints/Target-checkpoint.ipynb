{
 "cells": [
  {
   "cell_type": "code",
   "execution_count": null,
   "metadata": {
    "collapsed": true
   },
   "outputs": [],
   "source": [
    "class Target:\n",
    "    def _init_ (final)\n",
    "        \n",
    "        contour = final\n",
    "        temp = final[0]\n",
    "    \n",
    "    def targetLoad:\n",
    "        avgX = 0\n",
    "        avgY = 0\n",
    "        minX = temp[0][0]\n",
    "        maxX = temp[0][0]\n",
    "        minY = temp[0][1]\n",
    "        maxY = temp[0][1]\n",
    "        for p in final:\n",
    "            if p[0][0] < minX:\n",
    "                minX = p[0][0]\n",
    "            if p[0][0] > maxX:\n",
    "                maxX = p[0][0]\n",
    "            if p[0][1] < minY:\n",
    "                minY = p[0][1]\n",
    "            if p[0][1] > maxY:\n",
    "                maxY = p[0][1]\n",
    "\n",
    "        width = maxX-minX\n",
    "        height = maxY-minY\n",
    "        avgX = (maxX+minX)/2\n",
    "        avgY = (maxY+minY)/2\n",
    "        centerPoint = [avgX, avgY]\n",
    "    \n",
    "    def getWidth:\n",
    "        return width\n",
    "    def getHeight:\n",
    "        return height\n",
    "    def getCenter:\n",
    "        return centerPoint\n",
    "    "
   ]
  }
 ],
 "metadata": {
  "kernelspec": {
   "display_name": "Python 2",
   "language": "python",
   "name": "python2"
  },
  "language_info": {
   "codemirror_mode": {
    "name": "ipython",
    "version": 2
   },
   "file_extension": ".py",
   "mimetype": "text/x-python",
   "name": "python",
   "nbconvert_exporter": "python",
   "pygments_lexer": "ipython2",
   "version": "2.7.13"
  }
 },
 "nbformat": 4,
 "nbformat_minor": 2
}
